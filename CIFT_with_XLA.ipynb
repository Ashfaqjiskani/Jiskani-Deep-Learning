{
  "nbformat": 4,
  "nbformat_minor": 0,
  "metadata": {
    "colab": {
      "name": "CIFT with XLA.ipynb",
      "provenance": [],
      "collapsed_sections": [],
      "toc_visible": true
    },
    "kernelspec": {
      "name": "python3",
      "display_name": "Python 3"
    },
    "accelerator": "GPU"
  },
  "cells": [
    {
      "cell_type": "markdown",
      "metadata": {
        "id": "b7noD9NjFRL-"
      },
      "source": [
        "<table class=\"tfo-notebook-buttons\" align=\"left\">\n",
        "  <td>\n",
        "    <a target=\"_blank\" href=\"https://www.tensorflow.org/xla/tutorials/autoclustering_xla\"><img src=\"https://www.tensorflow.org/images/tf_logo_32px.png\" />View on TensorFlow.org</a>\n",
        "  </td>\n",
        "  <td>\n",
        "    <a target=\"_blank\" href=\"https://colab.research.google.com/github/tensorflow/tensorflow/blob/master/tensorflow/compiler/xla/g3doc/tutorials/autoclustering_xla.ipynb\"><img src=\"https://www.tensorflow.org/images/colab_logo_32px.png\" />Run in Google Colab</a>\n",
        "  </td>\n",
        "  <td>\n",
        "    <a target=\"_blank\" href=\"https://github.com/tensorflow/tensorflow/blob/master/tensorflow/compiler/xla/g3doc/tutorials/autoclustering_xla.ipynb\"><img src=\"https://www.tensorflow.org/images/GitHub-Mark-32px.png\" />View source on GitHub</a>\n",
        "  </td>\n",
        "</table>"
      ]
    },
    {
      "cell_type": "markdown",
      "metadata": {
        "id": "mz65veHXsmnS"
      },
      "source": [
        "# Classifying CIFAR-10 with XLA\n",
        "\n",
        "This tutorial trains a TensorFlow model to classify the [CIFAR-10](https://en.wikipedia.org/wiki/CIFAR-10) dataset, and we compile it using XLA.\n",
        "\n",
        "Load and normalize the dataset using the Keras API:"
      ]
    },
    {
      "cell_type": "code",
      "metadata": {
        "colab": {
          "base_uri": "https://localhost:8080/"
        },
        "id": "7vm2QsMisCxI",
        "outputId": "60b26888-0a81-474f-d6a0-df59f2b61fc1"
      },
      "source": [
        "import tensorflow as tf\n",
        "\n",
        "# Check that GPU is available: cf. https://colab.research.google.com/notebooks/gpu.ipynb\n",
        "assert(tf.test.gpu_device_name())\n",
        "\n",
        "tf.keras.backend.clear_session()\n",
        "tf.config.optimizer.set_jit(False) # Start with XLA disabled.\n",
        "\n",
        "def load_data():\n",
        "  (x_train, y_train), (x_test, y_test) = tf.keras.datasets.cifar10.load_data()\n",
        "  x_train = x_train.astype('float32') / 256\n",
        "  x_test = x_test.astype('float32') / 256\n",
        "\n",
        "  # Convert class vectors to binary class matrices.\n",
        "  y_train = tf.keras.utils.to_categorical(y_train, num_classes=10)\n",
        "  y_test = tf.keras.utils.to_categorical(y_test, num_classes=10)\n",
        "  return ((x_train, y_train), (x_test, y_test))\n",
        "\n",
        "(x_train, y_train), (x_test, y_test) = load_data()"
      ],
      "execution_count": 1,
      "outputs": [
        {
          "output_type": "stream",
          "text": [
            "Downloading data from https://www.cs.toronto.edu/~kriz/cifar-10-python.tar.gz\n",
            "170500096/170498071 [==============================] - 3s 0us/step\n"
          ],
          "name": "stdout"
        }
      ]
    },
    {
      "cell_type": "markdown",
      "metadata": {
        "id": "MgNM2tbgtScx"
      },
      "source": [
        "We define the model, adapted from the Keras [CIFAR-10 example](https://keras.io/examples/cifar10_cnn/):"
      ]
    },
    {
      "cell_type": "code",
      "metadata": {
        "id": "3ZRQSwoRsKM_"
      },
      "source": [
        "def generate_model():\n",
        "  return tf.keras.models.Sequential([\n",
        "    tf.keras.layers.Conv2D(32, (3, 3), padding='same', input_shape=x_train.shape[1:]),\n",
        "    tf.keras.layers.Activation('relu'),\n",
        "    tf.keras.layers.Conv2D(32, (3, 3)),\n",
        "    tf.keras.layers.Activation('relu'),\n",
        "    tf.keras.layers.MaxPooling2D(pool_size=(2, 2)),\n",
        "    tf.keras.layers.Dropout(0.25),\n",
        "\n",
        "    tf.keras.layers.Conv2D(64, (3, 3), padding='same'),\n",
        "    tf.keras.layers.Activation('relu'),\n",
        "    tf.keras.layers.Conv2D(64, (3, 3)),\n",
        "    tf.keras.layers.Activation('relu'),\n",
        "    tf.keras.layers.MaxPooling2D(pool_size=(2, 2)),\n",
        "    tf.keras.layers.Dropout(0.25),\n",
        "\n",
        "    tf.keras.layers.Flatten(),\n",
        "    tf.keras.layers.Dense(512),\n",
        "    tf.keras.layers.Activation('relu'),\n",
        "    tf.keras.layers.Dropout(0.5),\n",
        "    tf.keras.layers.Dense(10),\n",
        "    tf.keras.layers.Activation('softmax')\n",
        "  ])\n",
        "\n",
        "model = generate_model()"
      ],
      "execution_count": 2,
      "outputs": []
    },
    {
      "cell_type": "markdown",
      "metadata": {
        "id": "-M4GtGDZtb8a"
      },
      "source": [
        "We train the model using the\n",
        "[RMSprop](https://www.tensorflow.org/api_docs/python/tf/train/RMSPropOptimizer)\n",
        "optimizer:\n"
      ]
    },
    {
      "cell_type": "code",
      "metadata": {
        "colab": {
          "base_uri": "https://localhost:8080/"
        },
        "id": "UKCmrhF0tiMa",
        "outputId": "78423f10-6a94-439c-baa3-7a9694a5eec2"
      },
      "source": [
        "def compile_model(model):\n",
        "  opt = tf.keras.optimizers.RMSprop(lr=0.0001, decay=1e-6)\n",
        "  model.compile(loss='categorical_crossentropy',\n",
        "                optimizer=opt,\n",
        "                metrics=['accuracy'])\n",
        "  return model\n",
        "\n",
        "model = compile_model(model)\n",
        "\n",
        "def train_model(model, x_train, y_train, x_test, y_test, epochs=25):\n",
        "  model.fit(x_train, y_train, batch_size=256, epochs=epochs, validation_data=(x_test, y_test), shuffle=True)\n",
        "\n",
        "def warmup(model, x_train, y_train, x_test, y_test):\n",
        "  # Warm up the JIT, we do not wish to measure the compilation time.\n",
        "  initial_weights = model.get_weights()\n",
        "  train_model(model, x_train, y_train, x_test, y_test, epochs=1)\n",
        "  model.set_weights(initial_weights)\n",
        "\n",
        "warmup(model, x_train, y_train, x_test, y_test)\n",
        "%time train_model(model, x_train, y_train, x_test, y_test)\n",
        "\n",
        "scores = model.evaluate(x_test, y_test, verbose=1)\n",
        "print('Test loss:', scores[0])\n",
        "print('Test accuracy:', scores[1])"
      ],
      "execution_count": 3,
      "outputs": [
        {
          "output_type": "stream",
          "text": [
            "196/196 [==============================] - 37s 22ms/step - loss: 2.1783 - accuracy: 0.1819 - val_loss: 1.7990 - val_accuracy: 0.3697\n",
            "Epoch 1/25\n",
            "196/196 [==============================] - 4s 19ms/step - loss: 2.1248 - accuracy: 0.2129 - val_loss: 1.8769 - val_accuracy: 0.3488\n",
            "Epoch 2/25\n",
            "196/196 [==============================] - 4s 19ms/step - loss: 1.8139 - accuracy: 0.3480 - val_loss: 1.6891 - val_accuracy: 0.4037\n",
            "Epoch 3/25\n",
            "196/196 [==============================] - 4s 19ms/step - loss: 1.6824 - accuracy: 0.3933 - val_loss: 1.6299 - val_accuracy: 0.4216\n",
            "Epoch 4/25\n",
            "196/196 [==============================] - 4s 19ms/step - loss: 1.5943 - accuracy: 0.4261 - val_loss: 1.5702 - val_accuracy: 0.4414\n",
            "Epoch 5/25\n",
            "196/196 [==============================] - 4s 19ms/step - loss: 1.5300 - accuracy: 0.4491 - val_loss: 1.5382 - val_accuracy: 0.4522\n",
            "Epoch 6/25\n",
            "196/196 [==============================] - 4s 19ms/step - loss: 1.4774 - accuracy: 0.4692 - val_loss: 1.3922 - val_accuracy: 0.5061\n",
            "Epoch 7/25\n",
            "196/196 [==============================] - 4s 19ms/step - loss: 1.4333 - accuracy: 0.4859 - val_loss: 1.4009 - val_accuracy: 0.5010\n",
            "Epoch 8/25\n",
            "196/196 [==============================] - 4s 19ms/step - loss: 1.3965 - accuracy: 0.5009 - val_loss: 1.3261 - val_accuracy: 0.5253\n",
            "Epoch 9/25\n",
            "196/196 [==============================] - 4s 19ms/step - loss: 1.3622 - accuracy: 0.5146 - val_loss: 1.3392 - val_accuracy: 0.5211\n",
            "Epoch 10/25\n",
            "196/196 [==============================] - 4s 19ms/step - loss: 1.3313 - accuracy: 0.5232 - val_loss: 1.3088 - val_accuracy: 0.5384\n",
            "Epoch 11/25\n",
            "196/196 [==============================] - 4s 19ms/step - loss: 1.3043 - accuracy: 0.5367 - val_loss: 1.2853 - val_accuracy: 0.5447\n",
            "Epoch 12/25\n",
            "196/196 [==============================] - 4s 19ms/step - loss: 1.2770 - accuracy: 0.5457 - val_loss: 1.2656 - val_accuracy: 0.5537\n",
            "Epoch 13/25\n",
            "196/196 [==============================] - 4s 19ms/step - loss: 1.2510 - accuracy: 0.5561 - val_loss: 1.1801 - val_accuracy: 0.5839\n",
            "Epoch 14/25\n",
            "196/196 [==============================] - 4s 19ms/step - loss: 1.2252 - accuracy: 0.5650 - val_loss: 1.1515 - val_accuracy: 0.5909\n",
            "Epoch 15/25\n",
            "196/196 [==============================] - 4s 19ms/step - loss: 1.2006 - accuracy: 0.5777 - val_loss: 1.1156 - val_accuracy: 0.6075\n",
            "Epoch 16/25\n",
            "196/196 [==============================] - 4s 19ms/step - loss: 1.1800 - accuracy: 0.5827 - val_loss: 1.1535 - val_accuracy: 0.5993\n",
            "Epoch 17/25\n",
            "196/196 [==============================] - 4s 19ms/step - loss: 1.1576 - accuracy: 0.5896 - val_loss: 1.1597 - val_accuracy: 0.5927\n",
            "Epoch 18/25\n",
            "196/196 [==============================] - 4s 19ms/step - loss: 1.1386 - accuracy: 0.5991 - val_loss: 1.0896 - val_accuracy: 0.6157\n",
            "Epoch 19/25\n",
            "196/196 [==============================] - 4s 19ms/step - loss: 1.1177 - accuracy: 0.6062 - val_loss: 1.1300 - val_accuracy: 0.6061\n",
            "Epoch 20/25\n",
            "196/196 [==============================] - 4s 19ms/step - loss: 1.0995 - accuracy: 0.6158 - val_loss: 1.0653 - val_accuracy: 0.6275\n",
            "Epoch 21/25\n",
            "196/196 [==============================] - 4s 19ms/step - loss: 1.0839 - accuracy: 0.6206 - val_loss: 1.0511 - val_accuracy: 0.6317\n",
            "Epoch 22/25\n",
            "196/196 [==============================] - 4s 19ms/step - loss: 1.0660 - accuracy: 0.6275 - val_loss: 1.0044 - val_accuracy: 0.6502\n",
            "Epoch 23/25\n",
            "196/196 [==============================] - 4s 19ms/step - loss: 1.0542 - accuracy: 0.6312 - val_loss: 1.0373 - val_accuracy: 0.6418\n",
            "Epoch 24/25\n",
            "196/196 [==============================] - 4s 19ms/step - loss: 1.0349 - accuracy: 0.6387 - val_loss: 1.0783 - val_accuracy: 0.6264\n",
            "Epoch 25/25\n",
            "196/196 [==============================] - 4s 19ms/step - loss: 1.0206 - accuracy: 0.6433 - val_loss: 1.0345 - val_accuracy: 0.6346\n",
            "CPU times: user 1min 2s, sys: 23.7 s, total: 1min 25s\n",
            "Wall time: 1min 33s\n",
            "313/313 [==============================] - 1s 3ms/step - loss: 1.0345 - accuracy: 0.6346\n",
            "Test loss: 1.03447687625885\n",
            "Test accuracy: 0.6345999836921692\n"
          ],
          "name": "stdout"
        }
      ]
    },
    {
      "cell_type": "markdown",
      "metadata": {
        "id": "SLpfQ0StRgsu"
      },
      "source": [
        "Now let's train the model again, using the XLA compiler.\n",
        "To enable the compiler in the middle of the application, we need to reset the Keras session."
      ]
    },
    {
      "cell_type": "code",
      "metadata": {
        "colab": {
          "base_uri": "https://localhost:8080/"
        },
        "id": "jxU-Tzy4SX7p",
        "outputId": "e81345a7-6d7e-4960-c821-8e59cf1d0a88"
      },
      "source": [
        "# We need to clear the session to enable JIT in the middle of the program.\n",
        "tf.keras.backend.clear_session()\n",
        "tf.config.optimizer.set_jit(True) # Enable XLA.\n",
        "model = compile_model(generate_model())\n",
        "(x_train, y_train), (x_test, y_test) = load_data()\n",
        "\n",
        "warmup(model, x_train, y_train, x_test, y_test)\n",
        "%time train_model(model, x_train, y_train, x_test, y_test)"
      ],
      "execution_count": 4,
      "outputs": [
        {
          "output_type": "stream",
          "text": [
            "196/196 [==============================] - 8s 24ms/step - loss: 2.1652 - accuracy: 0.1917 - val_loss: 1.9119 - val_accuracy: 0.3259\n",
            "Epoch 1/25\n",
            "196/196 [==============================] - 6s 29ms/step - loss: 2.1076 - accuracy: 0.2214 - val_loss: 1.8558 - val_accuracy: 0.3557\n",
            "Epoch 2/25\n",
            "196/196 [==============================] - 4s 19ms/step - loss: 1.7986 - accuracy: 0.3518 - val_loss: 1.7106 - val_accuracy: 0.3933\n",
            "Epoch 3/25\n",
            "196/196 [==============================] - 4s 19ms/step - loss: 1.6694 - accuracy: 0.3951 - val_loss: 1.6572 - val_accuracy: 0.4022\n",
            "Epoch 4/25\n",
            "196/196 [==============================] - 4s 19ms/step - loss: 1.5751 - accuracy: 0.4296 - val_loss: 1.4842 - val_accuracy: 0.4647\n",
            "Epoch 5/25\n",
            "196/196 [==============================] - 4s 19ms/step - loss: 1.5181 - accuracy: 0.4494 - val_loss: 1.5126 - val_accuracy: 0.4583\n",
            "Epoch 6/25\n",
            "196/196 [==============================] - 4s 19ms/step - loss: 1.4707 - accuracy: 0.4702 - val_loss: 1.4382 - val_accuracy: 0.4848\n",
            "Epoch 7/25\n",
            "196/196 [==============================] - 4s 19ms/step - loss: 1.4264 - accuracy: 0.4873 - val_loss: 1.3404 - val_accuracy: 0.5249\n",
            "Epoch 8/25\n",
            "196/196 [==============================] - 4s 19ms/step - loss: 1.3873 - accuracy: 0.5025 - val_loss: 1.3136 - val_accuracy: 0.5283\n",
            "Epoch 9/25\n",
            "196/196 [==============================] - 4s 19ms/step - loss: 1.3503 - accuracy: 0.5178 - val_loss: 1.2611 - val_accuracy: 0.5517\n",
            "Epoch 10/25\n",
            "196/196 [==============================] - 4s 19ms/step - loss: 1.3181 - accuracy: 0.5309 - val_loss: 1.2439 - val_accuracy: 0.5590\n",
            "Epoch 11/25\n",
            "196/196 [==============================] - 4s 19ms/step - loss: 1.2862 - accuracy: 0.5435 - val_loss: 1.2387 - val_accuracy: 0.5575\n",
            "Epoch 12/25\n",
            "196/196 [==============================] - 4s 19ms/step - loss: 1.2631 - accuracy: 0.5530 - val_loss: 1.2470 - val_accuracy: 0.5566\n",
            "Epoch 13/25\n",
            "196/196 [==============================] - 4s 19ms/step - loss: 1.2366 - accuracy: 0.5636 - val_loss: 1.1996 - val_accuracy: 0.5870\n",
            "Epoch 14/25\n",
            "196/196 [==============================] - 4s 19ms/step - loss: 1.2115 - accuracy: 0.5714 - val_loss: 1.1835 - val_accuracy: 0.5822\n",
            "Epoch 15/25\n",
            "196/196 [==============================] - 4s 19ms/step - loss: 1.1854 - accuracy: 0.5821 - val_loss: 1.2070 - val_accuracy: 0.5757\n",
            "Epoch 16/25\n",
            "196/196 [==============================] - 4s 19ms/step - loss: 1.1662 - accuracy: 0.5880 - val_loss: 1.0894 - val_accuracy: 0.6163\n",
            "Epoch 17/25\n",
            "196/196 [==============================] - 4s 19ms/step - loss: 1.1437 - accuracy: 0.5971 - val_loss: 1.0820 - val_accuracy: 0.6201\n",
            "Epoch 18/25\n",
            "196/196 [==============================] - 4s 19ms/step - loss: 1.1208 - accuracy: 0.6046 - val_loss: 1.0422 - val_accuracy: 0.6357\n",
            "Epoch 19/25\n",
            "196/196 [==============================] - 4s 19ms/step - loss: 1.1067 - accuracy: 0.6095 - val_loss: 1.0919 - val_accuracy: 0.6181\n",
            "Epoch 20/25\n",
            "196/196 [==============================] - 4s 19ms/step - loss: 1.0869 - accuracy: 0.6183 - val_loss: 1.0383 - val_accuracy: 0.6373\n",
            "Epoch 21/25\n",
            "196/196 [==============================] - 4s 19ms/step - loss: 1.0689 - accuracy: 0.6231 - val_loss: 1.0507 - val_accuracy: 0.6380\n",
            "Epoch 22/25\n",
            "196/196 [==============================] - 4s 19ms/step - loss: 1.0543 - accuracy: 0.6320 - val_loss: 1.0168 - val_accuracy: 0.6446\n",
            "Epoch 23/25\n",
            "196/196 [==============================] - 4s 19ms/step - loss: 1.0363 - accuracy: 0.6389 - val_loss: 1.0172 - val_accuracy: 0.6527\n",
            "Epoch 24/25\n",
            "196/196 [==============================] - 4s 19ms/step - loss: 1.0222 - accuracy: 0.6406 - val_loss: 0.9984 - val_accuracy: 0.6534\n",
            "Epoch 25/25\n",
            "196/196 [==============================] - 4s 19ms/step - loss: 1.0087 - accuracy: 0.6473 - val_loss: 0.9706 - val_accuracy: 0.6623\n",
            "CPU times: user 43.4 s, sys: 6.1 s, total: 49.5 s\n",
            "Wall time: 1min 35s\n"
          ],
          "name": "stdout"
        }
      ]
    },
    {
      "cell_type": "markdown",
      "metadata": {
        "id": "iWHz6P1se92F"
      },
      "source": [
        "On a machine with a Titan V GPU and an Intel Xeon E5-2690 CPU the speed up is ~1.17x."
      ]
    }
  ]
}